{
 "cells": [
  {
   "cell_type": "markdown",
   "metadata": {},
   "source": [
    "# Test Summary\n",
    "## Equipment\n",
    "| Equipment | Description | Serial Number | Date of last calibration |\n",
    "|:--|:--|:--|:--|\n",
    "| Siglent SPD3303C| Labo DC Power supply| SPD3EEEC6R0513| 2022-03-06 |\n",
    "| Siglent SDL1020X-E| DC Electronic Load | SDL13GCC6R0182| 2022-02-11|\n",
    "| Mastech M92 | digital multimeter | 20011206033 | (?) |\n",
    "| SDS2354X HD | oscilloscope | | |\n"
   ]
  },
  {
   "cell_type": "markdown",
   "metadata": {},
   "source": [
    "# Test incident reports\n",
    "\n",
    "## TIR1\n",
    "* **Problem** : \n",
    "* **Proposed Fix** :\n"
   ]
  },
  {
   "cell_type": "markdown",
   "metadata": {},
   "source": [
    "# Battery protection test\n",
    " <table>\n",
    "  <tr>\n",
    "    <th>Action</th>\n",
    "    <th>Expected Result</th>\n",
    "    <th>Observed result</th>\n",
    "    <th>Status</th>\n",
    "  </tr>\n",
    "  <tr>\n",
    "    <td><b>Power ON/OFF by PWREN</b> <br/>Set VBAT to 3.7V.  Enable power MCU.  Bringing PWREN high should close Q2, Q4, Q5</td>\n",
    "    <td>V(BT1.2) = 0V</td>\n",
    "    <td>V(BT1.2) = 0V</td>\n",
    "    <td>✅</td>\n",
    "  </tr>\n",
    "  <tr>\n",
    "    <td><b>Power ON/OFF by PWREN</b> <br/>Set VBAT to 3.7V.Disable power MCU.  Bringing PWREN low should open Q2, Q4, Q5</td>\n",
    "    <td>V(BT1.2) > 1V</td>\n",
    "    <td>V(BT1.2) > 1V</td>\n",
    "    <td>✅</td>\n",
    "  </tr>\n",
    "  <tr>\n",
    "    <td><b>Power ON/OFF by momentary switch</b> <br/>Set VBAT to 3.7V.Enable power MOM.  Bringing J2.1 to GND should close Q2, Q4, Q5</td>\n",
    "    <td>V(BT1.2) = 0V</td>\n",
    "    <td>V(BT1.2) = 0V</td>\n",
    "    <td>✅</td>\n",
    "  </tr>\n",
    "  <tr>\n",
    "    <td><b>Power ON/OFF by momentary switch</b> <br/>Set VBAT to 3.7V.Disable power MOM.  Disconnecting J2.1 should open Q2, Q4, Q5</td>\n",
    "    <td>V(BT1.2) > 1V</td>\n",
    "    <td>V(BT1.2) > 1V</td>\n",
    "    <td>✅</td>\n",
    "  </tr>\n",
    "  <tr>\n",
    "    <td><b>VOCP : over charge detection</b><br/>\n",
    "    J2.1 connected to GND.<br/>\n",
    "    Power supply connected to BT1.  Electronic load (3mA) connected on C7.<br/>\n",
    "    Set VBAT to 3.7V.  Increase VBAT until V(BT1.2)>0V </td>\n",
    "    <td>VOCP = 4.25 - 4.35V</td>\n",
    "    <td>VOCP = 4.29V</td>\n",
    "    <td>✅</td>\n",
    "  </tr>\n",
    "  <tr>\n",
    "    <td><b>VOCR : over charge release</b><br/>\n",
    "    J2.1 connected to GND.<br/>\n",
    "    Power supply connected to BT1.  Electronic load (3mA) connected on C7.<br/>\n",
    "    Set VBAT to 4.3V.  Decrease VBAT until V(BT1.2)=0V </td>\n",
    "    <td>VOCR = 4.05 - 4.15V</td>\n",
    "    <td>VOCR = 4.28V</td>\n",
    "    <td>❌ >100mV out of spec, but should be no problem for this application</td>\n",
    "  </tr>\n",
    "  <tr>\n",
    "    <td><b>VODP : Overdischarge detection voltage</b><br/>\n",
    "    J2.1 connected to GND.<br/>\n",
    "    Power supply connected to BT1.  Electronic load (3mA) connected on C7.<br/>\n",
    "    Set VBAT to 3.7V.  Decrease VBAT until V(BT1.2)>0V </td>\n",
    "    <td>VODP = 2.4V</td>\n",
    "    <td>VODP = 2.51V</td>\n",
    "    <td>❌ 100mV out of spec, but should be no problem for this application</td>\n",
    "  </tr>\n",
    "  <tr>\n",
    "    <td><b>VODR : Overdischarge release voltage</b><br/>\n",
    "    J2.1 connected to GND.<br/>\n",
    "    Power supply connected to BT1.  Electronic load (3mA) connected on C7.<br/>\n",
    "    J2.1 connected to GND.  Set VBAT to 2.4V.  Increase VBAT until V(BT1.2)=0V </td>\n",
    "    <td>VODR = 3.0±0.100V</td>\n",
    "    <td>VODR = 3.20V</td>\n",
    "    <td>❌ 100mV out of spec, but should be no problem for this application</td>\n",
    "  </tr>\n",
    "  <tr>\n",
    "    <td><b>Over current detection</b></td>\n",
    "    <td></td>\n",
    "    <td>3xFS8205A : 6.2A total → 93.6mV<br/>\n",
    "    6.2A is the maximum my power supply can deliver.  MOSFETs would have to be removed to find the over current limit.</td>\n",
    "    <td>❓Not tested</td>\n",
    "  </tr>\n",
    "\n",
    "</table> \n"
   ]
  },
  {
   "cell_type": "markdown",
   "metadata": {},
   "source": [
    "# Test result details\n",
    "## Battery protection test\n",
    "The problem with detection of over charge is that the voltage is measured over the battery.  When supplying current to the protected BATT+/BATT- terminals (symbol naming according to DW01A datasheet), the VCC/GND will be low because the two MOSFETS are open.  As such the device is in undervoltage lockout and charging can not begin.\n",
    "\n",
    "When replacing the battery by a power supply and cranking up the voltage to overcharge, the problem is that the OC-MOSFET might be off, but its internal diode will still be conducting, so the current is not blocked.  We can check by measuring the drain-source voltage on the OC-MOSFET.  \n",
    "\n",
    "So we can connect a unity gain buffer to instead of the battery and apply a current source to the BATT+/BATT- terminals.  By increasing the voltage on the buffer, we can simulate the battery voltage increasing.  When can then monitor the current source to see if the OC-MOSFET is conducting or not."
   ]
  }
 ],
 "metadata": {
  "kernelspec": {
   "display_name": "Python 3",
   "language": "python",
   "name": "python3"
  },
  "language_info": {
   "name": "python",
   "version": "3.10.5"
  },
  "orig_nbformat": 4
 },
 "nbformat": 4,
 "nbformat_minor": 2
}
