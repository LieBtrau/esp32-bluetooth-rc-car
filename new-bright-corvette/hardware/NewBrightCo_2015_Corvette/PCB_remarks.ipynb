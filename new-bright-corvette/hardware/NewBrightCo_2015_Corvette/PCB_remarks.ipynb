{
 "cells": [
  {
   "cell_type": "markdown",
   "metadata": {},
   "source": [
    "# Comments\n",
    "* DMG3414 was not available.  Replaced by IRLML0030TRPBF.  Can be AO3400A in final design\n",
    "* R23, R24, R25, R26 : not available 1ohm/0603, replaced by 2x 0.5ohm/1206\n",
    "* LMV321 not found, replaced by MCP6001U."
   ]
  }
 ],
 "metadata": {
  "kernelspec": {
   "display_name": "Python 3",
   "language": "python",
   "name": "python3"
  },
  "language_info": {
   "name": "python",
   "version": "3.10.5"
  },
  "orig_nbformat": 4
 },
 "nbformat": 4,
 "nbformat_minor": 2
}
